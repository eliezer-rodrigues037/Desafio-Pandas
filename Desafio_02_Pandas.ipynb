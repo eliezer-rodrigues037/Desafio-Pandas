{
  "nbformat": 4,
  "nbformat_minor": 0,
  "metadata": {
    "colab": {
      "name": "Desafio_02-Pandas.ipynb",
      "provenance": [],
      "collapsed_sections": []
    },
    "kernelspec": {
      "name": "python3",
      "display_name": "Python 3"
    },
    "language_info": {
      "name": "python"
    }
  },
  "cells": [
    {
      "cell_type": "markdown",
      "source": [
        "# Bibliotecas <h1>"
      ],
      "metadata": {
        "id": "MOMmqhnFxUi2"
      }
    },
    {
      "cell_type": "code",
      "execution_count": null,
      "metadata": {
        "id": "sVOP3kU4xEa4"
      },
      "outputs": [],
      "source": [
        "from collections import Counter\n",
        "import matplotlib.pyplot as plt \n",
        "import matplotlib.dates as mdates\n",
        "import seaborn as sns\n",
        "import numpy as np\n",
        "import pandas as pd\n",
        "import math"
      ]
    },
    {
      "cell_type": "code",
      "source": [
        "%matplotlib inline"
      ],
      "metadata": {
        "id": "KYBaiIOcyPft"
      },
      "execution_count": null,
      "outputs": []
    },
    {
      "cell_type": "markdown",
      "source": [
        "#Lendo os dados"
      ],
      "metadata": {
        "id": "l8VmuNLy0YuY"
      }
    },
    {
      "cell_type": "code",
      "source": [
        "df = pd.read_excel('report_transactions.xlsx')"
      ],
      "metadata": {
        "id": "Ajbm5FRc0iSI"
      },
      "execution_count": null,
      "outputs": []
    },
    {
      "cell_type": "markdown",
      "source": [
        "## Informações diponíveis dos dados\n",
        "\n",
        "* buy_timestamp: quando aconteceu a primeira compra do conjunto de transações\n",
        "* buy_price: preço pago por uma unidade da criptomoeda na primeira compra (é possível comprar frações)\n",
        "* batch_invested_amount: total investido em dólares em todas as compras realizadas\n",
        "* asset_amount: fração da criptomoeda adquirido com a quantidade em dólares investida\n",
        "* buyTimes: quantas vezes aconteceram compras antes de se realizar a venda\n",
        "* sell_timestamp: quando aconteceu a venda (zerar posição)\n",
        "* sell_price: preço pelo qual foi vendido\n",
        "* minimal_roi: nome da estratégia utilizada para fazer a venda\n",
        "* result: resultado após a venda (lucro ou prejuízo em dólares)\n",
        "* total_wallet: total da carteira após o conjunto de transações ter sido efetivado"
      ],
      "metadata": {
        "id": "HgVvOjJ_3VRU"
      }
    },
    {
      "cell_type": "code",
      "source": [
        "df.head()"
      ],
      "metadata": {
        "colab": {
          "base_uri": "https://localhost:8080/",
          "height": 206
        },
        "id": "VJTYbuws0-1e",
        "outputId": "d2a12bb0-cdb4-4dc4-e8cf-333fca56f106"
      },
      "execution_count": null,
      "outputs": [
        {
          "output_type": "execute_result",
          "data": {
            "text/html": [
              "\n",
              "  <div id=\"df-98109eb1-a80e-4e8f-bf0e-037cad3dd3b6\">\n",
              "    <div class=\"colab-df-container\">\n",
              "      <div>\n",
              "<style scoped>\n",
              "    .dataframe tbody tr th:only-of-type {\n",
              "        vertical-align: middle;\n",
              "    }\n",
              "\n",
              "    .dataframe tbody tr th {\n",
              "        vertical-align: top;\n",
              "    }\n",
              "\n",
              "    .dataframe thead th {\n",
              "        text-align: right;\n",
              "    }\n",
              "</style>\n",
              "<table border=\"1\" class=\"dataframe\">\n",
              "  <thead>\n",
              "    <tr style=\"text-align: right;\">\n",
              "      <th></th>\n",
              "      <th>buy_timestamp</th>\n",
              "      <th>buy_price</th>\n",
              "      <th>batch_invested_amount</th>\n",
              "      <th>asset_amount</th>\n",
              "      <th>buyTimes</th>\n",
              "      <th>sell_timestamp</th>\n",
              "      <th>sell_price</th>\n",
              "      <th>minimal_roi</th>\n",
              "      <th>result</th>\n",
              "      <th>total_wallet</th>\n",
              "    </tr>\n",
              "  </thead>\n",
              "  <tbody>\n",
              "    <tr>\n",
              "      <th>0</th>\n",
              "      <td>2019-06-01 05:02:00</td>\n",
              "      <td>8531.38</td>\n",
              "      <td>100</td>\n",
              "      <td>0.011721</td>\n",
              "      <td>1</td>\n",
              "      <td>2019-06-01 06:45:00</td>\n",
              "      <td>8531.79</td>\n",
              "      <td>sell_condition 0</td>\n",
              "      <td>0.004806</td>\n",
              "      <td>10000.00</td>\n",
              "    </tr>\n",
              "    <tr>\n",
              "      <th>1</th>\n",
              "      <td>2019-06-02 05:18:00</td>\n",
              "      <td>8562.20</td>\n",
              "      <td>100</td>\n",
              "      <td>0.011679</td>\n",
              "      <td>1</td>\n",
              "      <td>2019-06-02 06:03:00</td>\n",
              "      <td>8589.49</td>\n",
              "      <td>sell_condition 0</td>\n",
              "      <td>0.318726</td>\n",
              "      <td>10000.32</td>\n",
              "    </tr>\n",
              "    <tr>\n",
              "      <th>2</th>\n",
              "      <td>2019-06-02 16:03:00</td>\n",
              "      <td>8647.12</td>\n",
              "      <td>100</td>\n",
              "      <td>0.011565</td>\n",
              "      <td>1</td>\n",
              "      <td>2019-06-02 16:48:00</td>\n",
              "      <td>8682.53</td>\n",
              "      <td>sell_condition 0</td>\n",
              "      <td>0.409501</td>\n",
              "      <td>10000.73</td>\n",
              "    </tr>\n",
              "    <tr>\n",
              "      <th>3</th>\n",
              "      <td>2019-06-03 08:52:00</td>\n",
              "      <td>8478.01</td>\n",
              "      <td>100</td>\n",
              "      <td>0.011795</td>\n",
              "      <td>1</td>\n",
              "      <td>2019-06-03 09:41:00</td>\n",
              "      <td>8481.00</td>\n",
              "      <td>sell_condition 0</td>\n",
              "      <td>0.035268</td>\n",
              "      <td>10000.77</td>\n",
              "    </tr>\n",
              "    <tr>\n",
              "      <th>4</th>\n",
              "      <td>2019-06-04 01:39:00</td>\n",
              "      <td>7990.12</td>\n",
              "      <td>100</td>\n",
              "      <td>0.012515</td>\n",
              "      <td>1</td>\n",
              "      <td>2019-06-04 02:24:00</td>\n",
              "      <td>8012.55</td>\n",
              "      <td>sell_condition 0</td>\n",
              "      <td>0.280722</td>\n",
              "      <td>10001.05</td>\n",
              "    </tr>\n",
              "  </tbody>\n",
              "</table>\n",
              "</div>\n",
              "      <button class=\"colab-df-convert\" onclick=\"convertToInteractive('df-98109eb1-a80e-4e8f-bf0e-037cad3dd3b6')\"\n",
              "              title=\"Convert this dataframe to an interactive table.\"\n",
              "              style=\"display:none;\">\n",
              "        \n",
              "  <svg xmlns=\"http://www.w3.org/2000/svg\" height=\"24px\"viewBox=\"0 0 24 24\"\n",
              "       width=\"24px\">\n",
              "    <path d=\"M0 0h24v24H0V0z\" fill=\"none\"/>\n",
              "    <path d=\"M18.56 5.44l.94 2.06.94-2.06 2.06-.94-2.06-.94-.94-2.06-.94 2.06-2.06.94zm-11 1L8.5 8.5l.94-2.06 2.06-.94-2.06-.94L8.5 2.5l-.94 2.06-2.06.94zm10 10l.94 2.06.94-2.06 2.06-.94-2.06-.94-.94-2.06-.94 2.06-2.06.94z\"/><path d=\"M17.41 7.96l-1.37-1.37c-.4-.4-.92-.59-1.43-.59-.52 0-1.04.2-1.43.59L10.3 9.45l-7.72 7.72c-.78.78-.78 2.05 0 2.83L4 21.41c.39.39.9.59 1.41.59.51 0 1.02-.2 1.41-.59l7.78-7.78 2.81-2.81c.8-.78.8-2.07 0-2.86zM5.41 20L4 18.59l7.72-7.72 1.47 1.35L5.41 20z\"/>\n",
              "  </svg>\n",
              "      </button>\n",
              "      \n",
              "  <style>\n",
              "    .colab-df-container {\n",
              "      display:flex;\n",
              "      flex-wrap:wrap;\n",
              "      gap: 12px;\n",
              "    }\n",
              "\n",
              "    .colab-df-convert {\n",
              "      background-color: #E8F0FE;\n",
              "      border: none;\n",
              "      border-radius: 50%;\n",
              "      cursor: pointer;\n",
              "      display: none;\n",
              "      fill: #1967D2;\n",
              "      height: 32px;\n",
              "      padding: 0 0 0 0;\n",
              "      width: 32px;\n",
              "    }\n",
              "\n",
              "    .colab-df-convert:hover {\n",
              "      background-color: #E2EBFA;\n",
              "      box-shadow: 0px 1px 2px rgba(60, 64, 67, 0.3), 0px 1px 3px 1px rgba(60, 64, 67, 0.15);\n",
              "      fill: #174EA6;\n",
              "    }\n",
              "\n",
              "    [theme=dark] .colab-df-convert {\n",
              "      background-color: #3B4455;\n",
              "      fill: #D2E3FC;\n",
              "    }\n",
              "\n",
              "    [theme=dark] .colab-df-convert:hover {\n",
              "      background-color: #434B5C;\n",
              "      box-shadow: 0px 1px 3px 1px rgba(0, 0, 0, 0.15);\n",
              "      filter: drop-shadow(0px 1px 2px rgba(0, 0, 0, 0.3));\n",
              "      fill: #FFFFFF;\n",
              "    }\n",
              "  </style>\n",
              "\n",
              "      <script>\n",
              "        const buttonEl =\n",
              "          document.querySelector('#df-98109eb1-a80e-4e8f-bf0e-037cad3dd3b6 button.colab-df-convert');\n",
              "        buttonEl.style.display =\n",
              "          google.colab.kernel.accessAllowed ? 'block' : 'none';\n",
              "\n",
              "        async function convertToInteractive(key) {\n",
              "          const element = document.querySelector('#df-98109eb1-a80e-4e8f-bf0e-037cad3dd3b6');\n",
              "          const dataTable =\n",
              "            await google.colab.kernel.invokeFunction('convertToInteractive',\n",
              "                                                     [key], {});\n",
              "          if (!dataTable) return;\n",
              "\n",
              "          const docLinkHtml = 'Like what you see? Visit the ' +\n",
              "            '<a target=\"_blank\" href=https://colab.research.google.com/notebooks/data_table.ipynb>data table notebook</a>'\n",
              "            + ' to learn more about interactive tables.';\n",
              "          element.innerHTML = '';\n",
              "          dataTable['output_type'] = 'display_data';\n",
              "          await google.colab.output.renderOutput(dataTable, element);\n",
              "          const docLink = document.createElement('div');\n",
              "          docLink.innerHTML = docLinkHtml;\n",
              "          element.appendChild(docLink);\n",
              "        }\n",
              "      </script>\n",
              "    </div>\n",
              "  </div>\n",
              "  "
            ],
            "text/plain": [
              "        buy_timestamp  buy_price  ...    result  total_wallet\n",
              "0 2019-06-01 05:02:00    8531.38  ...  0.004806      10000.00\n",
              "1 2019-06-02 05:18:00    8562.20  ...  0.318726      10000.32\n",
              "2 2019-06-02 16:03:00    8647.12  ...  0.409501      10000.73\n",
              "3 2019-06-03 08:52:00    8478.01  ...  0.035268      10000.77\n",
              "4 2019-06-04 01:39:00    7990.12  ...  0.280722      10001.05\n",
              "\n",
              "[5 rows x 10 columns]"
            ]
          },
          "metadata": {},
          "execution_count": 84
        }
      ]
    },
    {
      "cell_type": "markdown",
      "source": [
        "###Qual foi o dia de compra do conjunto de transações mais lucrativo?"
      ],
      "metadata": {
        "id": "ggrNWw80h-uZ"
      }
    },
    {
      "cell_type": "code",
      "source": [
        "data = df.copy()\n",
        "data['buy_timestamp'] = pd.to_datetime(df['buy_timestamp']).dt.date\n",
        "lucros = data.groupby(['buy_timestamp'])['result'].sum().sort_values(ascending=False)\n",
        "dado = data[data.buy_timestamp == lucros.index[0]]\n",
        "dado"
      ],
      "metadata": {
        "colab": {
          "base_uri": "https://localhost:8080/",
          "height": 143
        },
        "id": "Sa7VhOLK4CV6",
        "outputId": "7835f0d9-86ea-4139-e87d-cf3645167d5b"
      },
      "execution_count": null,
      "outputs": [
        {
          "output_type": "execute_result",
          "data": {
            "text/html": [
              "\n",
              "  <div id=\"df-32b0bb74-889a-41d6-9a3b-7ed715759f4b\">\n",
              "    <div class=\"colab-df-container\">\n",
              "      <div>\n",
              "<style scoped>\n",
              "    .dataframe tbody tr th:only-of-type {\n",
              "        vertical-align: middle;\n",
              "    }\n",
              "\n",
              "    .dataframe tbody tr th {\n",
              "        vertical-align: top;\n",
              "    }\n",
              "\n",
              "    .dataframe thead th {\n",
              "        text-align: right;\n",
              "    }\n",
              "</style>\n",
              "<table border=\"1\" class=\"dataframe\">\n",
              "  <thead>\n",
              "    <tr style=\"text-align: right;\">\n",
              "      <th></th>\n",
              "      <th>buy_timestamp</th>\n",
              "      <th>buy_price</th>\n",
              "      <th>batch_invested_amount</th>\n",
              "      <th>asset_amount</th>\n",
              "      <th>buyTimes</th>\n",
              "      <th>sell_timestamp</th>\n",
              "      <th>sell_price</th>\n",
              "      <th>minimal_roi</th>\n",
              "      <th>result</th>\n",
              "      <th>total_wallet</th>\n",
              "    </tr>\n",
              "  </thead>\n",
              "  <tbody>\n",
              "    <tr>\n",
              "      <th>251</th>\n",
              "      <td>2019-12-04</td>\n",
              "      <td>7161.30</td>\n",
              "      <td>100</td>\n",
              "      <td>0.013964</td>\n",
              "      <td>1</td>\n",
              "      <td>2019-12-04 01:22:00</td>\n",
              "      <td>7176.07</td>\n",
              "      <td>sell_condition 0</td>\n",
              "      <td>0.206247</td>\n",
              "      <td>9996.98</td>\n",
              "    </tr>\n",
              "    <tr>\n",
              "      <th>252</th>\n",
              "      <td>2019-12-04</td>\n",
              "      <td>7135.80</td>\n",
              "      <td>120</td>\n",
              "      <td>0.016833</td>\n",
              "      <td>2</td>\n",
              "      <td>2019-12-04 08:26:00</td>\n",
              "      <td>7140.06</td>\n",
              "      <td>sell_condition 0</td>\n",
              "      <td>0.186718</td>\n",
              "      <td>9997.17</td>\n",
              "    </tr>\n",
              "    <tr>\n",
              "      <th>253</th>\n",
              "      <td>2019-12-04</td>\n",
              "      <td>7474.32</td>\n",
              "      <td>220</td>\n",
              "      <td>0.029824</td>\n",
              "      <td>7</td>\n",
              "      <td>2019-12-06 17:54:00</td>\n",
              "      <td>7546.00</td>\n",
              "      <td>sell_condition 0</td>\n",
              "      <td>5.048166</td>\n",
              "      <td>10002.22</td>\n",
              "    </tr>\n",
              "  </tbody>\n",
              "</table>\n",
              "</div>\n",
              "      <button class=\"colab-df-convert\" onclick=\"convertToInteractive('df-32b0bb74-889a-41d6-9a3b-7ed715759f4b')\"\n",
              "              title=\"Convert this dataframe to an interactive table.\"\n",
              "              style=\"display:none;\">\n",
              "        \n",
              "  <svg xmlns=\"http://www.w3.org/2000/svg\" height=\"24px\"viewBox=\"0 0 24 24\"\n",
              "       width=\"24px\">\n",
              "    <path d=\"M0 0h24v24H0V0z\" fill=\"none\"/>\n",
              "    <path d=\"M18.56 5.44l.94 2.06.94-2.06 2.06-.94-2.06-.94-.94-2.06-.94 2.06-2.06.94zm-11 1L8.5 8.5l.94-2.06 2.06-.94-2.06-.94L8.5 2.5l-.94 2.06-2.06.94zm10 10l.94 2.06.94-2.06 2.06-.94-2.06-.94-.94-2.06-.94 2.06-2.06.94z\"/><path d=\"M17.41 7.96l-1.37-1.37c-.4-.4-.92-.59-1.43-.59-.52 0-1.04.2-1.43.59L10.3 9.45l-7.72 7.72c-.78.78-.78 2.05 0 2.83L4 21.41c.39.39.9.59 1.41.59.51 0 1.02-.2 1.41-.59l7.78-7.78 2.81-2.81c.8-.78.8-2.07 0-2.86zM5.41 20L4 18.59l7.72-7.72 1.47 1.35L5.41 20z\"/>\n",
              "  </svg>\n",
              "      </button>\n",
              "      \n",
              "  <style>\n",
              "    .colab-df-container {\n",
              "      display:flex;\n",
              "      flex-wrap:wrap;\n",
              "      gap: 12px;\n",
              "    }\n",
              "\n",
              "    .colab-df-convert {\n",
              "      background-color: #E8F0FE;\n",
              "      border: none;\n",
              "      border-radius: 50%;\n",
              "      cursor: pointer;\n",
              "      display: none;\n",
              "      fill: #1967D2;\n",
              "      height: 32px;\n",
              "      padding: 0 0 0 0;\n",
              "      width: 32px;\n",
              "    }\n",
              "\n",
              "    .colab-df-convert:hover {\n",
              "      background-color: #E2EBFA;\n",
              "      box-shadow: 0px 1px 2px rgba(60, 64, 67, 0.3), 0px 1px 3px 1px rgba(60, 64, 67, 0.15);\n",
              "      fill: #174EA6;\n",
              "    }\n",
              "\n",
              "    [theme=dark] .colab-df-convert {\n",
              "      background-color: #3B4455;\n",
              "      fill: #D2E3FC;\n",
              "    }\n",
              "\n",
              "    [theme=dark] .colab-df-convert:hover {\n",
              "      background-color: #434B5C;\n",
              "      box-shadow: 0px 1px 3px 1px rgba(0, 0, 0, 0.15);\n",
              "      filter: drop-shadow(0px 1px 2px rgba(0, 0, 0, 0.3));\n",
              "      fill: #FFFFFF;\n",
              "    }\n",
              "  </style>\n",
              "\n",
              "      <script>\n",
              "        const buttonEl =\n",
              "          document.querySelector('#df-32b0bb74-889a-41d6-9a3b-7ed715759f4b button.colab-df-convert');\n",
              "        buttonEl.style.display =\n",
              "          google.colab.kernel.accessAllowed ? 'block' : 'none';\n",
              "\n",
              "        async function convertToInteractive(key) {\n",
              "          const element = document.querySelector('#df-32b0bb74-889a-41d6-9a3b-7ed715759f4b');\n",
              "          const dataTable =\n",
              "            await google.colab.kernel.invokeFunction('convertToInteractive',\n",
              "                                                     [key], {});\n",
              "          if (!dataTable) return;\n",
              "\n",
              "          const docLinkHtml = 'Like what you see? Visit the ' +\n",
              "            '<a target=\"_blank\" href=https://colab.research.google.com/notebooks/data_table.ipynb>data table notebook</a>'\n",
              "            + ' to learn more about interactive tables.';\n",
              "          element.innerHTML = '';\n",
              "          dataTable['output_type'] = 'display_data';\n",
              "          await google.colab.output.renderOutput(dataTable, element);\n",
              "          const docLink = document.createElement('div');\n",
              "          docLink.innerHTML = docLinkHtml;\n",
              "          element.appendChild(docLink);\n",
              "        }\n",
              "      </script>\n",
              "    </div>\n",
              "  </div>\n",
              "  "
            ],
            "text/plain": [
              "    buy_timestamp  buy_price  ...    result  total_wallet\n",
              "251    2019-12-04    7161.30  ...  0.206247       9996.98\n",
              "252    2019-12-04    7135.80  ...  0.186718       9997.17\n",
              "253    2019-12-04    7474.32  ...  5.048166      10002.22\n",
              "\n",
              "[3 rows x 10 columns]"
            ]
          },
          "metadata": {},
          "execution_count": 5
        }
      ]
    },
    {
      "cell_type": "markdown",
      "source": [
        ""
      ],
      "metadata": {
        "id": "K8xYh5MjOkJt"
      }
    },
    {
      "cell_type": "markdown",
      "source": [
        "###Qual o total de resultado por estratégia para fazer a venda?\n"
      ],
      "metadata": {
        "id": "WtbSbXkkOmqv"
      }
    },
    {
      "cell_type": "code",
      "source": [
        "total = df.groupby(['minimal_roi'])['result'].sum().sort_values(ascending=False)\n",
        "total"
      ],
      "metadata": {
        "colab": {
          "base_uri": "https://localhost:8080/"
        },
        "id": "bg0Ss7YwOpVR",
        "outputId": "559877b2-7345-428a-c9b4-556f8b9ebf35"
      },
      "execution_count": null,
      "outputs": [
        {
          "output_type": "execute_result",
          "data": {
            "text/plain": [
              "minimal_roi\n",
              "sell_condition 0        257.565530\n",
              "sell_condition 0.015     15.245004\n",
              "stoploss               -208.328298\n",
              "Name: result, dtype: float64"
            ]
          },
          "metadata": {},
          "execution_count": 6
        }
      ]
    },
    {
      "cell_type": "markdown",
      "source": [
        "###Qual foi o conjunto de transações com mais compras?"
      ],
      "metadata": {
        "id": "t77u3U_XTfYl"
      }
    },
    {
      "cell_type": "code",
      "source": [
        "TotCompras = df.buyTimes.max()\n",
        "dado = data[data.buyTimes == TotCompras]\n",
        "dado"
      ],
      "metadata": {
        "colab": {
          "base_uri": "https://localhost:8080/",
          "height": 81
        },
        "id": "x7huGTtMTglL",
        "outputId": "7d59f1ce-c70b-4fac-cd05-d3cd13348959"
      },
      "execution_count": null,
      "outputs": [
        {
          "output_type": "execute_result",
          "data": {
            "text/html": [
              "\n",
              "  <div id=\"df-e25548e8-a75c-403d-9cf4-5c3e5a2c7533\">\n",
              "    <div class=\"colab-df-container\">\n",
              "      <div>\n",
              "<style scoped>\n",
              "    .dataframe tbody tr th:only-of-type {\n",
              "        vertical-align: middle;\n",
              "    }\n",
              "\n",
              "    .dataframe tbody tr th {\n",
              "        vertical-align: top;\n",
              "    }\n",
              "\n",
              "    .dataframe thead th {\n",
              "        text-align: right;\n",
              "    }\n",
              "</style>\n",
              "<table border=\"1\" class=\"dataframe\">\n",
              "  <thead>\n",
              "    <tr style=\"text-align: right;\">\n",
              "      <th></th>\n",
              "      <th>buy_timestamp</th>\n",
              "      <th>buy_price</th>\n",
              "      <th>batch_invested_amount</th>\n",
              "      <th>asset_amount</th>\n",
              "      <th>buyTimes</th>\n",
              "      <th>sell_timestamp</th>\n",
              "      <th>sell_price</th>\n",
              "      <th>minimal_roi</th>\n",
              "      <th>result</th>\n",
              "      <th>total_wallet</th>\n",
              "    </tr>\n",
              "  </thead>\n",
              "  <tbody>\n",
              "    <tr>\n",
              "      <th>143</th>\n",
              "      <td>2019-09-06</td>\n",
              "      <td>10582.9</td>\n",
              "      <td>320</td>\n",
              "      <td>0.030849</td>\n",
              "      <td>12</td>\n",
              "      <td>2019-09-11 06:52:00</td>\n",
              "      <td>9887.93</td>\n",
              "      <td>stoploss</td>\n",
              "      <td>-14.966332</td>\n",
              "      <td>10002.36</td>\n",
              "    </tr>\n",
              "  </tbody>\n",
              "</table>\n",
              "</div>\n",
              "      <button class=\"colab-df-convert\" onclick=\"convertToInteractive('df-e25548e8-a75c-403d-9cf4-5c3e5a2c7533')\"\n",
              "              title=\"Convert this dataframe to an interactive table.\"\n",
              "              style=\"display:none;\">\n",
              "        \n",
              "  <svg xmlns=\"http://www.w3.org/2000/svg\" height=\"24px\"viewBox=\"0 0 24 24\"\n",
              "       width=\"24px\">\n",
              "    <path d=\"M0 0h24v24H0V0z\" fill=\"none\"/>\n",
              "    <path d=\"M18.56 5.44l.94 2.06.94-2.06 2.06-.94-2.06-.94-.94-2.06-.94 2.06-2.06.94zm-11 1L8.5 8.5l.94-2.06 2.06-.94-2.06-.94L8.5 2.5l-.94 2.06-2.06.94zm10 10l.94 2.06.94-2.06 2.06-.94-2.06-.94-.94-2.06-.94 2.06-2.06.94z\"/><path d=\"M17.41 7.96l-1.37-1.37c-.4-.4-.92-.59-1.43-.59-.52 0-1.04.2-1.43.59L10.3 9.45l-7.72 7.72c-.78.78-.78 2.05 0 2.83L4 21.41c.39.39.9.59 1.41.59.51 0 1.02-.2 1.41-.59l7.78-7.78 2.81-2.81c.8-.78.8-2.07 0-2.86zM5.41 20L4 18.59l7.72-7.72 1.47 1.35L5.41 20z\"/>\n",
              "  </svg>\n",
              "      </button>\n",
              "      \n",
              "  <style>\n",
              "    .colab-df-container {\n",
              "      display:flex;\n",
              "      flex-wrap:wrap;\n",
              "      gap: 12px;\n",
              "    }\n",
              "\n",
              "    .colab-df-convert {\n",
              "      background-color: #E8F0FE;\n",
              "      border: none;\n",
              "      border-radius: 50%;\n",
              "      cursor: pointer;\n",
              "      display: none;\n",
              "      fill: #1967D2;\n",
              "      height: 32px;\n",
              "      padding: 0 0 0 0;\n",
              "      width: 32px;\n",
              "    }\n",
              "\n",
              "    .colab-df-convert:hover {\n",
              "      background-color: #E2EBFA;\n",
              "      box-shadow: 0px 1px 2px rgba(60, 64, 67, 0.3), 0px 1px 3px 1px rgba(60, 64, 67, 0.15);\n",
              "      fill: #174EA6;\n",
              "    }\n",
              "\n",
              "    [theme=dark] .colab-df-convert {\n",
              "      background-color: #3B4455;\n",
              "      fill: #D2E3FC;\n",
              "    }\n",
              "\n",
              "    [theme=dark] .colab-df-convert:hover {\n",
              "      background-color: #434B5C;\n",
              "      box-shadow: 0px 1px 3px 1px rgba(0, 0, 0, 0.15);\n",
              "      filter: drop-shadow(0px 1px 2px rgba(0, 0, 0, 0.3));\n",
              "      fill: #FFFFFF;\n",
              "    }\n",
              "  </style>\n",
              "\n",
              "      <script>\n",
              "        const buttonEl =\n",
              "          document.querySelector('#df-e25548e8-a75c-403d-9cf4-5c3e5a2c7533 button.colab-df-convert');\n",
              "        buttonEl.style.display =\n",
              "          google.colab.kernel.accessAllowed ? 'block' : 'none';\n",
              "\n",
              "        async function convertToInteractive(key) {\n",
              "          const element = document.querySelector('#df-e25548e8-a75c-403d-9cf4-5c3e5a2c7533');\n",
              "          const dataTable =\n",
              "            await google.colab.kernel.invokeFunction('convertToInteractive',\n",
              "                                                     [key], {});\n",
              "          if (!dataTable) return;\n",
              "\n",
              "          const docLinkHtml = 'Like what you see? Visit the ' +\n",
              "            '<a target=\"_blank\" href=https://colab.research.google.com/notebooks/data_table.ipynb>data table notebook</a>'\n",
              "            + ' to learn more about interactive tables.';\n",
              "          element.innerHTML = '';\n",
              "          dataTable['output_type'] = 'display_data';\n",
              "          await google.colab.output.renderOutput(dataTable, element);\n",
              "          const docLink = document.createElement('div');\n",
              "          docLink.innerHTML = docLinkHtml;\n",
              "          element.appendChild(docLink);\n",
              "        }\n",
              "      </script>\n",
              "    </div>\n",
              "  </div>\n",
              "  "
            ],
            "text/plain": [
              "    buy_timestamp  buy_price  ...     result  total_wallet\n",
              "143    2019-09-06    10582.9  ... -14.966332      10002.36\n",
              "\n",
              "[1 rows x 10 columns]"
            ]
          },
          "metadata": {},
          "execution_count": 7
        }
      ]
    },
    {
      "cell_type": "markdown",
      "source": [
        "###Distribuição da quantidade de compras antes da venda"
      ],
      "metadata": {
        "id": "zdQ9y9CQ8pTW"
      }
    },
    {
      "cell_type": "code",
      "source": [
        "sns.displot(df['buyTimes'])\n",
        "plt.xlabel('Compras')\n",
        "plt.ylabel('Quantidade')\n",
        "plt.show()"
      ],
      "metadata": {
        "colab": {
          "base_uri": "https://localhost:8080/",
          "height": 369
        },
        "id": "4LG1FHNg8wd1",
        "outputId": "0e56d756-967d-49c0-8997-3ea627b86f46"
      },
      "execution_count": null,
      "outputs": [
        {
          "output_type": "display_data",
          "data": {
            "image/png": "[encoded data removed]",
            "text/plain": [
              "<Figure size 360x360 with 1 Axes>"
            ]
          },
          "metadata": {
            "needs_background": "light"
          }
        }
      ]
    },
    {
      "cell_type": "markdown",
      "source": [
        "####Lucros por mês"
      ],
      "metadata": {
        "id": "19zfM3Cb2x6T"
      }
    },
    {
      "cell_type": "code",
      "source": [
        "data = df.copy()\n",
        "data['buy_timestamp'] = pd.to_datetime(df['buy_timestamp']).dt.month\n",
        "total = data.groupby(['buy_timestamp'])['result'].sum().sort_index()\n",
        "\n",
        "sns.barplot(x=total.index,y=total.values, color='#2CBDF3')\n",
        "plt.xlabel('Mês')\n",
        "plt.ylabel('Lucro')\n",
        "plt.show()"
      ],
      "metadata": {
        "colab": {
          "base_uri": "https://localhost:8080/",
          "height": 279
        },
        "id": "ga-4__oouO8D",
        "outputId": "c2c566a2-42ce-46e4-d0dd-c2ecfca5a426"
      },
      "execution_count": null,
      "outputs": [
        {
          "output_type": "display_data",
          "data": {
            "image/png": "[encoded data removed]",
            "text/plain": [
              "<Figure size 432x288 with 1 Axes>"
            ]
          },
          "metadata": {
            "needs_background": "light"
          }
        }
      ]
    },
    {
      "cell_type": "markdown",
      "source": [
        "###Distribuição do total investido"
      ],
      "metadata": {
        "id": "R_fncGb-nJD2"
      }
    },
    {
      "cell_type": "code",
      "source": [
        "sns.displot(df['batch_invested_amount'])\n",
        "plt.xlabel('Quantidade investida ($)')\n",
        "plt.ylabel('Total')\n",
        "plt.show()"
      ],
      "metadata": {
        "colab": {
          "base_uri": "https://localhost:8080/",
          "height": 368
        },
        "id": "32mVKhA5lPrd",
        "outputId": "51e525a7-f0ca-40bd-eda9-186c27a03ab1"
      },
      "execution_count": null,
      "outputs": [
        {
          "output_type": "display_data",
          "data": {
            "image/png": "[encoded data removed]",
            "text/plain": [
              "<Figure size 360x360 with 1 Axes>"
            ]
          },
          "metadata": {
            "needs_background": "light"
          }
        }
      ]
    }
  ]
}